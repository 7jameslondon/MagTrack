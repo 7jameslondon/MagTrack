{
 "nbformat": 4,
 "nbformat_minor": 5,
 "metadata": {
  "kernelspec": {
   "display_name": "Python 3 (ipykernel)",
   "language": "python",
   "name": "python3"
  },
  "language_info": {
   "codemirror_mode": {
    "name": "ipython",
    "version": 3
   },
   "file_extension": ".py",
   "mimetype": "text/x-python",
   "name": "python",
   "nbconvert_exporter": "python",
   "pygments_lexer": "ipython3",
   "version": "3.12.9"
  }
 },
 "cells": [
  {
   "metadata": {},
   "cell_type": "markdown",
   "source": "# Setup",
   "id": "f4ba489be6720b66"
  },
  {
   "metadata": {},
   "cell_type": "code",
   "outputs": [],
   "execution_count": null,
   "source": [
    "%pip install magtrack matplotlib\n",
    "\n",
    "import magtrack\n",
    "import numpy as np\n",
    "import cupy as cp\n",
    "import matplotlib.pyplot as plt"
   ],
   "id": "2a9af212220c690a"
  },
  {
   "metadata": {},
   "cell_type": "code",
   "outputs": [],
   "execution_count": null,
   "source": [
    "try:\n",
    "    import cupy as cp\n",
    "except Exception:\n",
    "    %pip -q install -U cupy-cuda12x\n",
    "    import cupy as cp  # noqa\n",
    "\n",
    "try:\n",
    "    n = cp.cuda.runtime.getDeviceCount()\n",
    "    assert n > 0, \"No GPU runtime.\"\n",
    "    print(\"GPU:\", cp.cuda.Device(0).name)\n",
    "    cp.show_config()\n",
    "except Exception as e:\n",
    "    raise SystemExit(\"GPU unavailable. In Colab: Runtime → Change runtime type → GPU.\") from e"
   ],
   "id": "1f623f8f831176f7"
  },
  {
   "cell_type": "markdown",
   "id": "1177c9d5-fbd3-4199-9e55-65a30c255478",
   "metadata": {},
   "source": "# Example 1: Get XY Coordinates with Center-of-Mass"
  },
  {
   "metadata": {},
   "cell_type": "code",
   "outputs": [],
   "execution_count": null,
   "source": [
    "fake_image_stack = cp.zeros((20, 20, 1))\n",
    "x, y = magtrack.center_of_mass(fake_image_stack)\n",
    "print(f'x: {x}, y: {y}')"
   ],
   "id": "368172e80b241420"
  },
  {
   "metadata": {},
   "cell_type": "code",
   "outputs": [],
   "execution_count": null,
   "source": [
    "plt.imshow(fake_image_stack[:, :, 0])\n",
    "plt.plot(x, y, 'r+')\n",
    "plt.show()"
   ],
   "id": "5d9945cc2c5006fe"
  }
 ]
}
