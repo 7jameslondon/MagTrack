{
 "cells": [
  {
   "cell_type": "markdown",
   "id": "1177c9d5-fbd3-4199-9e55-65a30c255478",
   "metadata": {},
   "source": [
    "## Example 1: XY Coordinate\n",
    "This first example requires you too install matplotlib just for the purpose of plotting the results"
   ]
  },
  {
   "cell_type": "code",
   "execution_count": 9,
   "id": "27675d32-81a8-439b-baf5-1f5a182e2ab2",
   "metadata": {},
   "outputs": [
    {
     "data": {
      "text/plain": [
       "(array([nan]), array([nan]))"
      ]
     },
     "execution_count": 9,
     "metadata": {},
     "output_type": "execute_result"
    }
   ],
   "source": [
    "import magtrack\n",
    "import numpy as np\n",
    "import matplotlib.pyplot as plt\n",
    "\n",
    "fake_image_stack = np.zeros((20, 20, 1))\n",
    "magtrack.center_of_mass(fake_image_stack)"
   ]
  },
  {
   "cell_type": "code",
   "execution_count": 1,
   "id": "815dafa0-2092-4058-84cd-da09c21466d8",
   "metadata": {},
   "outputs": [],
   "source": []
  },
  {
   "cell_type": "code",
   "execution_count": null,
   "id": "8039febb-7543-43d9-adaf-8f5b723c9d67",
   "metadata": {},
   "outputs": [],
   "source": []
  }
 ],
 "metadata": {
  "kernelspec": {
   "display_name": "Python 3 (ipykernel)",
   "language": "python",
   "name": "python3"
  },
  "language_info": {
   "codemirror_mode": {
    "name": "ipython",
    "version": 3
   },
   "file_extension": ".py",
   "mimetype": "text/x-python",
   "name": "python",
   "nbconvert_exporter": "python",
   "pygments_lexer": "ipython3",
   "version": "3.12.9"
  }
 },
 "nbformat": 4,
 "nbformat_minor": 5
}
